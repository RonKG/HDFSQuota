{
 "cells": [
  {
   "cell_type": "code",
   "execution_count": 85,
   "metadata": {
    "collapsed": false
   },
   "outputs": [],
   "source": [
    "from os import listdir\n",
    "from os.path import isfile\n",
    "import pandas as pd\n",
    "import matplotlib as mpl\n",
    "import matplotlib.pyplot as plt\n",
    "import brewer2mpl\n",
    "import matplotlib.font_manager\n",
    "%matplotlib inline\n",
    "# args ( name, type, number of colors)\n",
    "pd.set_option('display.mpl_style', 'default')\n",
    "bmap = brewer2mpl.get_map('Set2', 'qualitative', 7)\n",
    "mpl.rcParams['axes.color_cycle'] = bmap.mpl_colors\n",
    "mpl.rcParams['font.size'] = 14\n"
   ]
  },
  {
   "cell_type": "code",
   "execution_count": 86,
   "metadata": {
    "collapsed": false
   },
   "outputs": [
    {
     "name": "stdout",
     "output_type": "stream",
     "text": [
      "['hdfs-dfs-lsr-20151024.log']\n"
     ]
    }
   ],
   "source": [
    "# get hdfs log files\n",
    "hdfs_files = [f for f in listdir() if isfile(f) & f.startswith('hdfs') & f.endswith('.log')]   \n",
    "print(hdfs_files)"
   ]
  },
  {
   "cell_type": "code",
   "execution_count": 87,
   "metadata": {
    "collapsed": false
   },
   "outputs": [
    {
     "data": {
      "text/html": [
       "<div>\n",
       "<table border=\"1\" class=\"dataframe\">\n",
       "  <thead>\n",
       "    <tr style=\"text-align: right;\">\n",
       "      <th></th>\n",
       "      <th>permissions</th>\n",
       "      <th>replicas</th>\n",
       "      <th>user</th>\n",
       "      <th>group</th>\n",
       "      <th>size</th>\n",
       "      <th>mod_date</th>\n",
       "      <th>mod_time</th>\n",
       "      <th>fname</th>\n",
       "      <th>src</th>\n",
       "    </tr>\n",
       "  </thead>\n",
       "  <tbody>\n",
       "    <tr>\n",
       "      <th>0</th>\n",
       "      <td>drwxrwxrwx</td>\n",
       "      <td>-</td>\n",
       "      <td>yarn</td>\n",
       "      <td>hadoop</td>\n",
       "      <td>0</td>\n",
       "      <td>2015-10-20</td>\n",
       "      <td>13:26</td>\n",
       "      <td>/app-logs</td>\n",
       "      <td>20151024</td>\n",
       "    </tr>\n",
       "    <tr>\n",
       "      <th>1</th>\n",
       "      <td>drwxrwx---</td>\n",
       "      <td>-</td>\n",
       "      <td>ambari-qa</td>\n",
       "      <td>hadoop</td>\n",
       "      <td>0</td>\n",
       "      <td>2015-10-20</td>\n",
       "      <td>13:26</td>\n",
       "      <td>/app-logs/ambari-qa</td>\n",
       "      <td>20151024</td>\n",
       "    </tr>\n",
       "    <tr>\n",
       "      <th>2</th>\n",
       "      <td>drwxrwx---</td>\n",
       "      <td>-</td>\n",
       "      <td>ambari-qa</td>\n",
       "      <td>hadoop</td>\n",
       "      <td>0</td>\n",
       "      <td>2015-10-21</td>\n",
       "      <td>00:47</td>\n",
       "      <td>/app-logs/ambari-qa/logs</td>\n",
       "      <td>20151024</td>\n",
       "    </tr>\n",
       "    <tr>\n",
       "      <th>3</th>\n",
       "      <td>drwxrwx---</td>\n",
       "      <td>-</td>\n",
       "      <td>ambari-qa</td>\n",
       "      <td>hadoop</td>\n",
       "      <td>0</td>\n",
       "      <td>2015-10-20</td>\n",
       "      <td>13:26</td>\n",
       "      <td>/app-logs/ambari-qa/logs/application_144537273...</td>\n",
       "      <td>20151024</td>\n",
       "    </tr>\n",
       "    <tr>\n",
       "      <th>4</th>\n",
       "      <td>-rw-r-----</td>\n",
       "      <td>2</td>\n",
       "      <td>ambari-qa</td>\n",
       "      <td>hadoop</td>\n",
       "      <td>384</td>\n",
       "      <td>2015-10-20</td>\n",
       "      <td>13:26</td>\n",
       "      <td>/app-logs/ambari-qa/logs/application_144537273...</td>\n",
       "      <td>20151024</td>\n",
       "    </tr>\n",
       "  </tbody>\n",
       "</table>\n",
       "</div>"
      ],
      "text/plain": [
       "  permissions replicas       user   group  size    mod_date mod_time  \\\n",
       "0  drwxrwxrwx        -       yarn  hadoop     0  2015-10-20    13:26   \n",
       "1  drwxrwx---        -  ambari-qa  hadoop     0  2015-10-20    13:26   \n",
       "2  drwxrwx---        -  ambari-qa  hadoop     0  2015-10-21    00:47   \n",
       "3  drwxrwx---        -  ambari-qa  hadoop     0  2015-10-20    13:26   \n",
       "4  -rw-r-----        2  ambari-qa  hadoop   384  2015-10-20    13:26   \n",
       "\n",
       "                                               fname       src  \n",
       "0                                          /app-logs  20151024  \n",
       "1                                /app-logs/ambari-qa  20151024  \n",
       "2                           /app-logs/ambari-qa/logs  20151024  \n",
       "3  /app-logs/ambari-qa/logs/application_144537273...  20151024  \n",
       "4  /app-logs/ambari-qa/logs/application_144537273...  20151024  "
      ]
     },
     "execution_count": 87,
     "metadata": {},
     "output_type": "execute_result"
    }
   ],
   "source": [
    "# only read in first log file for now (in the future read in more files to compare different snapshots)\n",
    "hdfs_files = ['hdfs-dfs-lsr-20151024.log']\n",
    "df = pd.DataFrame()\n",
    "for f in hdfs_files:\n",
    "    dft = pd.read_csv(f, delim_whitespace=True, names=['permissions', 'replicas', 'user', 'group', 'size', 'mod_date', 'mod_time', 'fname'])\n",
    "    dft['src'] = f.replace('hdfs-dfs-lsr-','').replace('.log','')\n",
    "    df = pd.concat([df, dft])\n",
    "\n",
    "df.head()"
   ]
  },
  {
   "cell_type": "code",
   "execution_count": 88,
   "metadata": {
    "collapsed": false
   },
   "outputs": [],
   "source": [
    "#df = pd.read_csv('hdfs-dfs-lsr-1.log', delim_whitespace=True, names=['permissions', 'replicas', 'user', 'group', 'size', 'mod_date', 'mod_time', 'fname'])\n",
    "\n"
   ]
  },
  {
   "cell_type": "code",
   "execution_count": 89,
   "metadata": {
    "collapsed": false
   },
   "outputs": [
    {
     "data": {
      "text/html": [
       "<div>\n",
       "<table border=\"1\" class=\"dataframe\">\n",
       "  <thead>\n",
       "    <tr style=\"text-align: right;\">\n",
       "      <th></th>\n",
       "      <th>permissions</th>\n",
       "      <th>replicas</th>\n",
       "      <th>user</th>\n",
       "      <th>group</th>\n",
       "      <th>size</th>\n",
       "      <th>mod_date</th>\n",
       "      <th>mod_time</th>\n",
       "      <th>fname</th>\n",
       "      <th>src</th>\n",
       "    </tr>\n",
       "  </thead>\n",
       "  <tbody>\n",
       "    <tr>\n",
       "      <th>0</th>\n",
       "      <td>drwxrwxrwx</td>\n",
       "      <td>-</td>\n",
       "      <td>yarn</td>\n",
       "      <td>hadoop</td>\n",
       "      <td>0</td>\n",
       "      <td>2015-10-20</td>\n",
       "      <td>13:26</td>\n",
       "      <td>/app-logs</td>\n",
       "      <td>20151024</td>\n",
       "    </tr>\n",
       "    <tr>\n",
       "      <th>1</th>\n",
       "      <td>drwxrwx---</td>\n",
       "      <td>-</td>\n",
       "      <td>ambari-qa</td>\n",
       "      <td>hadoop</td>\n",
       "      <td>0</td>\n",
       "      <td>2015-10-20</td>\n",
       "      <td>13:26</td>\n",
       "      <td>/app-logs/ambari-qa</td>\n",
       "      <td>20151024</td>\n",
       "    </tr>\n",
       "    <tr>\n",
       "      <th>2</th>\n",
       "      <td>drwxrwx---</td>\n",
       "      <td>-</td>\n",
       "      <td>ambari-qa</td>\n",
       "      <td>hadoop</td>\n",
       "      <td>0</td>\n",
       "      <td>2015-10-21</td>\n",
       "      <td>00:47</td>\n",
       "      <td>/app-logs/ambari-qa/logs</td>\n",
       "      <td>20151024</td>\n",
       "    </tr>\n",
       "    <tr>\n",
       "      <th>3</th>\n",
       "      <td>drwxrwx---</td>\n",
       "      <td>-</td>\n",
       "      <td>ambari-qa</td>\n",
       "      <td>hadoop</td>\n",
       "      <td>0</td>\n",
       "      <td>2015-10-20</td>\n",
       "      <td>13:26</td>\n",
       "      <td>/app-logs/ambari-qa/logs/application_144537273...</td>\n",
       "      <td>20151024</td>\n",
       "    </tr>\n",
       "    <tr>\n",
       "      <th>4</th>\n",
       "      <td>-rw-r-----</td>\n",
       "      <td>2</td>\n",
       "      <td>ambari-qa</td>\n",
       "      <td>hadoop</td>\n",
       "      <td>384</td>\n",
       "      <td>2015-10-20</td>\n",
       "      <td>13:26</td>\n",
       "      <td>/app-logs/ambari-qa/logs/application_144537273...</td>\n",
       "      <td>20151024</td>\n",
       "    </tr>\n",
       "  </tbody>\n",
       "</table>\n",
       "</div>"
      ],
      "text/plain": [
       "  permissions replicas       user   group  size    mod_date mod_time  \\\n",
       "0  drwxrwxrwx        -       yarn  hadoop     0  2015-10-20    13:26   \n",
       "1  drwxrwx---        -  ambari-qa  hadoop     0  2015-10-20    13:26   \n",
       "2  drwxrwx---        -  ambari-qa  hadoop     0  2015-10-21    00:47   \n",
       "3  drwxrwx---        -  ambari-qa  hadoop     0  2015-10-20    13:26   \n",
       "4  -rw-r-----        2  ambari-qa  hadoop   384  2015-10-20    13:26   \n",
       "\n",
       "                                               fname       src  \n",
       "0                                          /app-logs  20151024  \n",
       "1                                /app-logs/ambari-qa  20151024  \n",
       "2                           /app-logs/ambari-qa/logs  20151024  \n",
       "3  /app-logs/ambari-qa/logs/application_144537273...  20151024  \n",
       "4  /app-logs/ambari-qa/logs/application_144537273...  20151024  "
      ]
     },
     "execution_count": 89,
     "metadata": {},
     "output_type": "execute_result"
    }
   ],
   "source": [
    "df.head()"
   ]
  },
  {
   "cell_type": "code",
   "execution_count": 90,
   "metadata": {
    "collapsed": false
   },
   "outputs": [
    {
     "data": {
      "text/html": [
       "<div>\n",
       "<table border=\"1\" class=\"dataframe\">\n",
       "  <thead>\n",
       "    <tr style=\"text-align: right;\">\n",
       "      <th></th>\n",
       "      <th>permissions</th>\n",
       "      <th>replicas</th>\n",
       "      <th>user</th>\n",
       "      <th>group</th>\n",
       "      <th>size</th>\n",
       "      <th>mod_date</th>\n",
       "      <th>mod_time</th>\n",
       "      <th>fname</th>\n",
       "      <th>src</th>\n",
       "      <th>is_dir</th>\n",
       "      <th>num_replicas</th>\n",
       "      <th>dt_mod</th>\n",
       "      <th>size_mb</th>\n",
       "    </tr>\n",
       "  </thead>\n",
       "  <tbody>\n",
       "    <tr>\n",
       "      <th>0</th>\n",
       "      <td>drwxrwxrwx</td>\n",
       "      <td>-</td>\n",
       "      <td>yarn</td>\n",
       "      <td>hadoop</td>\n",
       "      <td>0</td>\n",
       "      <td>2015-10-20</td>\n",
       "      <td>13:26</td>\n",
       "      <td>/app-logs</td>\n",
       "      <td>20151024</td>\n",
       "      <td>True</td>\n",
       "      <td>NaN</td>\n",
       "      <td>2015-10-20 13:26:00</td>\n",
       "      <td>0.000000</td>\n",
       "    </tr>\n",
       "    <tr>\n",
       "      <th>1</th>\n",
       "      <td>drwxrwx---</td>\n",
       "      <td>-</td>\n",
       "      <td>ambari-qa</td>\n",
       "      <td>hadoop</td>\n",
       "      <td>0</td>\n",
       "      <td>2015-10-20</td>\n",
       "      <td>13:26</td>\n",
       "      <td>/app-logs/ambari-qa</td>\n",
       "      <td>20151024</td>\n",
       "      <td>True</td>\n",
       "      <td>NaN</td>\n",
       "      <td>2015-10-20 13:26:00</td>\n",
       "      <td>0.000000</td>\n",
       "    </tr>\n",
       "    <tr>\n",
       "      <th>2</th>\n",
       "      <td>drwxrwx---</td>\n",
       "      <td>-</td>\n",
       "      <td>ambari-qa</td>\n",
       "      <td>hadoop</td>\n",
       "      <td>0</td>\n",
       "      <td>2015-10-21</td>\n",
       "      <td>00:47</td>\n",
       "      <td>/app-logs/ambari-qa/logs</td>\n",
       "      <td>20151024</td>\n",
       "      <td>True</td>\n",
       "      <td>NaN</td>\n",
       "      <td>2015-10-21 00:47:00</td>\n",
       "      <td>0.000000</td>\n",
       "    </tr>\n",
       "    <tr>\n",
       "      <th>3</th>\n",
       "      <td>drwxrwx---</td>\n",
       "      <td>-</td>\n",
       "      <td>ambari-qa</td>\n",
       "      <td>hadoop</td>\n",
       "      <td>0</td>\n",
       "      <td>2015-10-20</td>\n",
       "      <td>13:26</td>\n",
       "      <td>/app-logs/ambari-qa/logs/application_144537273...</td>\n",
       "      <td>20151024</td>\n",
       "      <td>True</td>\n",
       "      <td>NaN</td>\n",
       "      <td>2015-10-20 13:26:00</td>\n",
       "      <td>0.000000</td>\n",
       "    </tr>\n",
       "    <tr>\n",
       "      <th>4</th>\n",
       "      <td>-rw-r-----</td>\n",
       "      <td>2</td>\n",
       "      <td>ambari-qa</td>\n",
       "      <td>hadoop</td>\n",
       "      <td>384</td>\n",
       "      <td>2015-10-20</td>\n",
       "      <td>13:26</td>\n",
       "      <td>/app-logs/ambari-qa/logs/application_144537273...</td>\n",
       "      <td>20151024</td>\n",
       "      <td>False</td>\n",
       "      <td>2</td>\n",
       "      <td>2015-10-20 13:26:00</td>\n",
       "      <td>0.000366</td>\n",
       "    </tr>\n",
       "  </tbody>\n",
       "</table>\n",
       "</div>"
      ],
      "text/plain": [
       "  permissions replicas       user   group  size    mod_date mod_time  \\\n",
       "0  drwxrwxrwx        -       yarn  hadoop     0  2015-10-20    13:26   \n",
       "1  drwxrwx---        -  ambari-qa  hadoop     0  2015-10-20    13:26   \n",
       "2  drwxrwx---        -  ambari-qa  hadoop     0  2015-10-21    00:47   \n",
       "3  drwxrwx---        -  ambari-qa  hadoop     0  2015-10-20    13:26   \n",
       "4  -rw-r-----        2  ambari-qa  hadoop   384  2015-10-20    13:26   \n",
       "\n",
       "                                               fname       src is_dir  \\\n",
       "0                                          /app-logs  20151024   True   \n",
       "1                                /app-logs/ambari-qa  20151024   True   \n",
       "2                           /app-logs/ambari-qa/logs  20151024   True   \n",
       "3  /app-logs/ambari-qa/logs/application_144537273...  20151024   True   \n",
       "4  /app-logs/ambari-qa/logs/application_144537273...  20151024  False   \n",
       "\n",
       "   num_replicas              dt_mod   size_mb  \n",
       "0           NaN 2015-10-20 13:26:00  0.000000  \n",
       "1           NaN 2015-10-20 13:26:00  0.000000  \n",
       "2           NaN 2015-10-21 00:47:00  0.000000  \n",
       "3           NaN 2015-10-20 13:26:00  0.000000  \n",
       "4             2 2015-10-20 13:26:00  0.000366  "
      ]
     },
     "execution_count": 90,
     "metadata": {},
     "output_type": "execute_result"
    }
   ],
   "source": [
    "df['is_dir'] = df['permissions'].apply(lambda x: True if x[0] == 'd' else False)\n",
    "df['num_replicas'] = pd.to_numeric(df.replicas,'coerce')\n",
    "df['dt_mod'] = pd.to_datetime(df.mod_date + ' ' + df.mod_time)\n",
    "df['size_mb'] = df['size'].apply(lambda size: size/1024/1024)\n",
    "df.head()"
   ]
  },
  {
   "cell_type": "code",
   "execution_count": 91,
   "metadata": {
    "collapsed": false
   },
   "outputs": [
    {
     "data": {
      "text/plain": [
       "1708"
      ]
     },
     "execution_count": 91,
     "metadata": {},
     "output_type": "execute_result"
    }
   ],
   "source": [
    "# num files\n",
    "df[(df.is_dir==False)]['fname'].count()"
   ]
  },
  {
   "cell_type": "code",
   "execution_count": 92,
   "metadata": {
    "collapsed": false
   },
   "outputs": [
    {
     "data": {
      "text/plain": [
       "is_dir\n",
       "False    1708\n",
       "True     1029\n",
       "Name: fname, dtype: int64"
      ]
     },
     "execution_count": 92,
     "metadata": {},
     "output_type": "execute_result"
    }
   ],
   "source": [
    "# num files and directories\n",
    "# True=Directory; False=File\n",
    "df.groupby(['is_dir'])['fname'].count()"
   ]
  },
  {
   "cell_type": "code",
   "execution_count": 93,
   "metadata": {
    "collapsed": false
   },
   "outputs": [
    {
     "data": {
      "text/plain": [
       "user       group   is_dir\n",
       "ambari-qa  hadoop  False      91\n",
       "                   True       39\n",
       "           hdfs    False      42\n",
       "                   True       25\n",
       "anonymous  hdfs    True        1\n",
       "hbase      hdfs    False     604\n",
       "                   True      827\n",
       "hcat       hdfs    True        1\n",
       "hdfs       hadoop  False      10\n",
       "           hdfs    False     139\n",
       "                   True       94\n",
       "hive       hdfs    True        7\n",
       "mapred     hadoop  True        9\n",
       "           hdfs    True        1\n",
       "oozie      hadoop  True        1\n",
       "           hdfs    False     822\n",
       "                   True       22\n",
       "spark      hdfs    True        1\n",
       "yarn       hadoop  True        1\n",
       "Name: fname, dtype: int64"
      ]
     },
     "execution_count": 93,
     "metadata": {},
     "output_type": "execute_result"
    }
   ],
   "source": [
    "#num files/dirs per user:group\n",
    "df.groupby(['user','group','is_dir'])['fname'].count()"
   ]
  },
  {
   "cell_type": "code",
   "execution_count": 94,
   "metadata": {
    "collapsed": false
   },
   "outputs": [
    {
     "data": {
      "text/plain": [
       "user       group \n",
       "ambari-qa  hadoop      3.866881\n",
       "           hdfs       20.353203\n",
       "anonymous  hdfs        0.000000\n",
       "hbase      hdfs        0.388103\n",
       "hcat       hdfs        0.000000\n",
       "hdfs       hadoop    872.678347\n",
       "           hdfs        8.032172\n",
       "hive       hdfs        0.000000\n",
       "mapred     hadoop      0.000000\n",
       "           hdfs        0.000000\n",
       "oozie      hadoop      0.000000\n",
       "           hdfs      602.341820\n",
       "spark      hdfs        0.000000\n",
       "yarn       hadoop      0.000000\n",
       "Name: size_mb, dtype: float64"
      ]
     },
     "execution_count": 94,
     "metadata": {},
     "output_type": "execute_result"
    }
   ],
   "source": [
    "# quota per user:group\n",
    "df.groupby(['user','group'])['size_mb'].sum()"
   ]
  },
  {
   "cell_type": "code",
   "execution_count": 95,
   "metadata": {
    "collapsed": false
   },
   "outputs": [
    {
     "data": {
      "text/plain": [
       "user       group \n",
       "ambari-qa  hadoop   2015-10-21 00:48:00\n",
       "           hdfs     2015-10-21 11:16:00\n",
       "anonymous  hdfs     2015-10-20 22:13:00\n",
       "hbase      hdfs     2015-10-24 05:43:00\n",
       "hcat       hdfs     2015-10-20 06:30:00\n",
       "hdfs       hadoop   2015-10-21 00:25:00\n",
       "           hdfs     2015-10-23 14:32:00\n",
       "hive       hdfs     2015-10-21 11:16:00\n",
       "mapred     hadoop   2015-10-21 00:47:00\n",
       "           hdfs     2015-10-20 06:29:00\n",
       "oozie      hadoop   2015-10-20 13:27:00\n",
       "           hdfs     2015-10-21 00:31:00\n",
       "spark      hdfs     2015-10-20 06:28:00\n",
       "yarn       hadoop   2015-10-20 13:26:00\n",
       "Name: dt_mod, dtype: datetime64[ns]"
      ]
     },
     "execution_count": 95,
     "metadata": {},
     "output_type": "execute_result"
    }
   ],
   "source": [
    "# last seen (user:group)\n",
    "df.groupby(['user','group'])['dt_mod'].max()"
   ]
  },
  {
   "cell_type": "code",
   "execution_count": 96,
   "metadata": {
    "collapsed": false
   },
   "outputs": [
    {
     "data": {
      "text/plain": [
       "1607   2015-10-23 14:32:00\n",
       "1595   2015-10-23 14:32:00\n",
       "1605   2015-10-23 14:32:00\n",
       "1606   2015-10-23 14:32:00\n",
       "1600   2015-10-22 14:32:00\n",
       "1604   2015-10-22 14:32:00\n",
       "1601   2015-10-21 15:30:00\n",
       "1602   2015-10-21 15:30:00\n",
       "1603   2015-10-21 15:30:00\n",
       "1599   2015-10-21 14:32:00\n",
       "85     2015-10-21 11:06:00\n",
       "84     2015-10-21 11:06:00\n",
       "1597   2015-10-21 01:01:00\n",
       "1608   2015-10-21 00:49:00\n",
       "1786   2015-10-21 00:44:00\n",
       "1711   2015-10-21 00:44:00\n",
       "1710   2015-10-21 00:44:00\n",
       "1709   2015-10-21 00:44:00\n",
       "1708   2015-10-21 00:44:00\n",
       "1707   2015-10-21 00:44:00\n",
       "1706   2015-10-21 00:44:00\n",
       "1783   2015-10-21 00:44:00\n",
       "1784   2015-10-21 00:44:00\n",
       "1785   2015-10-21 00:44:00\n",
       "1787   2015-10-21 00:44:00\n",
       "1788   2015-10-21 00:44:00\n",
       "1694   2015-10-21 00:44:00\n",
       "1695   2015-10-21 00:44:00\n",
       "1797   2015-10-21 00:44:00\n",
       "1796   2015-10-21 00:44:00\n",
       "               ...        \n",
       "1534   2015-10-21 00:25:00\n",
       "1535   2015-10-21 00:25:00\n",
       "1537   2015-10-21 00:25:00\n",
       "1538   2015-10-21 00:25:00\n",
       "1621   2015-10-21 00:17:00\n",
       "1880   2015-10-21 00:05:00\n",
       "1620   2015-10-21 00:04:00\n",
       "1539   2015-10-21 00:02:00\n",
       "1520   2015-10-21 00:02:00\n",
       "1540   2015-10-21 00:02:00\n",
       "1536   2015-10-21 00:02:00\n",
       "1598   2015-10-21 00:00:00\n",
       "1594   2015-10-20 23:47:00\n",
       "1593   2015-10-20 23:47:00\n",
       "1596   2015-10-20 23:47:00\n",
       "1622   2015-10-20 13:25:00\n",
       "1663   2015-10-20 13:25:00\n",
       "1523   2015-10-20 06:30:00\n",
       "1517   2015-10-20 06:30:00\n",
       "1521   2015-10-20 06:30:00\n",
       "1522   2015-10-20 06:30:00\n",
       "1525   2015-10-20 06:30:00\n",
       "1524   2015-10-20 06:30:00\n",
       "1528   2015-10-20 06:30:00\n",
       "1527   2015-10-20 06:30:00\n",
       "1526   2015-10-20 06:29:00\n",
       "1542   2015-10-20 06:29:00\n",
       "1519   2015-10-20 06:29:00\n",
       "1529   2015-10-20 06:29:00\n",
       "1530   2015-10-20 06:29:00\n",
       "Name: dt_mod, dtype: datetime64[ns]"
      ]
     },
     "execution_count": 96,
     "metadata": {},
     "output_type": "execute_result"
    }
   ],
   "source": [
    "# validate last seen for hdfs user\n",
    "df[(df.user=='hdfs')]['dt_mod'].sort_values(ascending=False)"
   ]
  },
  {
   "cell_type": "code",
   "execution_count": 97,
   "metadata": {
    "collapsed": false
   },
   "outputs": [
    {
     "data": {
      "text/plain": [
       "count    1708.000000\n",
       "mean        2.074941\n",
       "std         0.770885\n",
       "min         2.000000\n",
       "25%         2.000000\n",
       "50%         2.000000\n",
       "75%         2.000000\n",
       "max        10.000000\n",
       "Name: num_replicas, dtype: float64"
      ]
     },
     "execution_count": 97,
     "metadata": {},
     "output_type": "execute_result"
    }
   ],
   "source": [
    "# average replicas\n",
    "df['num_replicas'].describe()"
   ]
  },
  {
   "cell_type": "code",
   "execution_count": 98,
   "metadata": {
    "collapsed": false
   },
   "outputs": [
    {
     "data": {
      "text/plain": [
       "user       group \n",
       "ambari-qa  hadoop    2.000000\n",
       "           hdfs      5.047619\n",
       "anonymous  hdfs           NaN\n",
       "hbase      hdfs      2.000000\n",
       "hcat       hdfs           NaN\n",
       "hdfs       hadoop    2.000000\n",
       "           hdfs      2.000000\n",
       "hive       hdfs           NaN\n",
       "mapred     hadoop         NaN\n",
       "           hdfs           NaN\n",
       "oozie      hadoop         NaN\n",
       "           hdfs      2.000000\n",
       "spark      hdfs           NaN\n",
       "yarn       hadoop         NaN\n",
       "Name: num_replicas, dtype: float64"
      ]
     },
     "execution_count": 98,
     "metadata": {},
     "output_type": "execute_result"
    }
   ],
   "source": [
    "# average replica user:group\n",
    "df.groupby(['user','group'])['num_replicas'].mean()"
   ]
  },
  {
   "cell_type": "code",
   "execution_count": 99,
   "metadata": {
    "collapsed": false
   },
   "outputs": [
    {
     "data": {
      "text/plain": [
       "is_dir  permissions\n",
       "False   -r--r--r--       10\n",
       "        -rw-r-----       49\n",
       "        -rw-r--r--     1462\n",
       "        -rwx--x---        4\n",
       "        -rwxr-xr-x      143\n",
       "        -rwxrwx---       40\n",
       "True    dr-xr-xr-x        8\n",
       "        drwx------       22\n",
       "        drwx--x--x        2\n",
       "        drwx-wx-wx        1\n",
       "        drwxr-xr-x      941\n",
       "        drwxrwx---       47\n",
       "        drwxrwxr-x        2\n",
       "        drwxrwxrwt        1\n",
       "        drwxrwxrwx        5\n",
       "Name: fname, dtype: int64"
      ]
     },
     "execution_count": 99,
     "metadata": {},
     "output_type": "execute_result"
    }
   ],
   "source": [
    "# permission count by object type\n",
    "df.groupby(['is_dir','permissions'])['fname'].count()"
   ]
  },
  {
   "cell_type": "code",
   "execution_count": 100,
   "metadata": {
    "collapsed": false
   },
   "outputs": [
    {
     "data": {
      "text/plain": [
       "<matplotlib.axes._subplots.AxesSubplot at 0x10a35d198>"
      ]
     },
     "execution_count": 100,
     "metadata": {},
     "output_type": "execute_result"
    },
    {
     "data": {
      "image/png": "[encoded data removed]",
      "text/plain": [
       "<matplotlib.figure.Figure at 0x109bc6198>"
      ]
     },
     "metadata": {},
     "output_type": "display_data"
    }
   ],
   "source": [
    "plt_size_user = df['size_mb'].groupby(df['user']).agg(sum)\n",
    "plt.xlabel('User')\n",
    "plt.ylabel('Size (MB)')\n",
    "plt.title('Size per User')\n",
    "plt_size_user.plot(kind='bar', figsize=(8,3))"
   ]
  },
  {
   "cell_type": "code",
   "execution_count": 101,
   "metadata": {
    "collapsed": false
   },
   "outputs": [
    {
     "data": {
      "text/plain": [
       "array(['app-logs', 'apps', 'hdp', 'mapred', 'mr-history', 'ranger', 'tmp',\n",
       "       'user'], dtype=object)"
      ]
     },
     "execution_count": 101,
     "metadata": {},
     "output_type": "execute_result"
    }
   ],
   "source": [
    "df['path_main'] = df.fname.apply(lambda fname: fname[1:fname.find('/', 1)] if fname.find('/', 1) > 0 else fname[1:])\n",
    "df['path_main'].unique()"
   ]
  },
  {
   "cell_type": "code",
   "execution_count": 102,
   "metadata": {
    "collapsed": false
   },
   "outputs": [
    {
     "data": {
      "text/plain": [
       "<matplotlib.axes._subplots.AxesSubplot at 0x10a92beb8>"
      ]
     },
     "execution_count": 102,
     "metadata": {},
     "output_type": "execute_result"
    },
    {
     "data": {
      "image/png": "[encoded data removed]",
      "text/plain": [
       "<matplotlib.figure.Figure at 0x10a329c50>"
      ]
     },
     "metadata": {},
     "output_type": "display_data"
    }
   ],
   "source": [
    "plt.xlabel('Main Path')\n",
    "plt.ylabel('Size (MB)')\n",
    "plt.title('Size per Main Path')\n",
    "df.groupby(['path_main'])['size_mb'].sum().plot(kind='bar', figsize=(8,3))"
   ]
  },
  {
   "cell_type": "code",
   "execution_count": 103,
   "metadata": {
    "collapsed": false
   },
   "outputs": [
    {
     "data": {
      "text/html": [
       "<div>\n",
       "<table border=\"1\" class=\"dataframe\">\n",
       "  <thead>\n",
       "    <tr style=\"text-align: right;\">\n",
       "      <th></th>\n",
       "      <th>permissions</th>\n",
       "      <th>replicas</th>\n",
       "      <th>user</th>\n",
       "      <th>group</th>\n",
       "      <th>size</th>\n",
       "      <th>mod_date</th>\n",
       "      <th>mod_time</th>\n",
       "      <th>fname</th>\n",
       "      <th>src</th>\n",
       "      <th>is_dir</th>\n",
       "      <th>num_replicas</th>\n",
       "      <th>dt_mod</th>\n",
       "      <th>size_mb</th>\n",
       "      <th>path_main</th>\n",
       "      <th>fname_id</th>\n",
       "    </tr>\n",
       "  </thead>\n",
       "  <tbody>\n",
       "    <tr>\n",
       "      <th>0</th>\n",
       "      <td>drwxrwxrwx</td>\n",
       "      <td>-</td>\n",
       "      <td>yarn</td>\n",
       "      <td>hadoop</td>\n",
       "      <td>0</td>\n",
       "      <td>2015-10-20</td>\n",
       "      <td>13:26</td>\n",
       "      <td>/app-logs</td>\n",
       "      <td>20151024</td>\n",
       "      <td>True</td>\n",
       "      <td>NaN</td>\n",
       "      <td>2015-10-20 13:26:00</td>\n",
       "      <td>0.000000</td>\n",
       "      <td>app-logs</td>\n",
       "      <td>NaN</td>\n",
       "    </tr>\n",
       "    <tr>\n",
       "      <th>1</th>\n",
       "      <td>drwxrwx---</td>\n",
       "      <td>-</td>\n",
       "      <td>ambari-qa</td>\n",
       "      <td>hadoop</td>\n",
       "      <td>0</td>\n",
       "      <td>2015-10-20</td>\n",
       "      <td>13:26</td>\n",
       "      <td>/app-logs/ambari-qa</td>\n",
       "      <td>20151024</td>\n",
       "      <td>True</td>\n",
       "      <td>NaN</td>\n",
       "      <td>2015-10-20 13:26:00</td>\n",
       "      <td>0.000000</td>\n",
       "      <td>app-logs</td>\n",
       "      <td>NaN</td>\n",
       "    </tr>\n",
       "    <tr>\n",
       "      <th>2</th>\n",
       "      <td>drwxrwx---</td>\n",
       "      <td>-</td>\n",
       "      <td>ambari-qa</td>\n",
       "      <td>hadoop</td>\n",
       "      <td>0</td>\n",
       "      <td>2015-10-21</td>\n",
       "      <td>00:47</td>\n",
       "      <td>/app-logs/ambari-qa/logs</td>\n",
       "      <td>20151024</td>\n",
       "      <td>True</td>\n",
       "      <td>NaN</td>\n",
       "      <td>2015-10-21 00:47:00</td>\n",
       "      <td>0.000000</td>\n",
       "      <td>app-logs</td>\n",
       "      <td>NaN</td>\n",
       "    </tr>\n",
       "    <tr>\n",
       "      <th>3</th>\n",
       "      <td>drwxrwx---</td>\n",
       "      <td>-</td>\n",
       "      <td>ambari-qa</td>\n",
       "      <td>hadoop</td>\n",
       "      <td>0</td>\n",
       "      <td>2015-10-20</td>\n",
       "      <td>13:26</td>\n",
       "      <td>/app-logs/ambari-qa/logs/application_144537273...</td>\n",
       "      <td>20151024</td>\n",
       "      <td>True</td>\n",
       "      <td>NaN</td>\n",
       "      <td>2015-10-20 13:26:00</td>\n",
       "      <td>0.000000</td>\n",
       "      <td>app-logs</td>\n",
       "      <td>NaN</td>\n",
       "    </tr>\n",
       "    <tr>\n",
       "      <th>4</th>\n",
       "      <td>-rw-r-----</td>\n",
       "      <td>2</td>\n",
       "      <td>ambari-qa</td>\n",
       "      <td>hadoop</td>\n",
       "      <td>384</td>\n",
       "      <td>2015-10-20</td>\n",
       "      <td>13:26</td>\n",
       "      <td>/app-logs/ambari-qa/logs/application_144537273...</td>\n",
       "      <td>20151024</td>\n",
       "      <td>False</td>\n",
       "      <td>2</td>\n",
       "      <td>2015-10-20 13:26:00</td>\n",
       "      <td>0.000366</td>\n",
       "      <td>app-logs</td>\n",
       "      <td>NaN</td>\n",
       "    </tr>\n",
       "  </tbody>\n",
       "</table>\n",
       "</div>"
      ],
      "text/plain": [
       "  permissions replicas       user   group  size    mod_date mod_time  \\\n",
       "0  drwxrwxrwx        -       yarn  hadoop     0  2015-10-20    13:26   \n",
       "1  drwxrwx---        -  ambari-qa  hadoop     0  2015-10-20    13:26   \n",
       "2  drwxrwx---        -  ambari-qa  hadoop     0  2015-10-21    00:47   \n",
       "3  drwxrwx---        -  ambari-qa  hadoop     0  2015-10-20    13:26   \n",
       "4  -rw-r-----        2  ambari-qa  hadoop   384  2015-10-20    13:26   \n",
       "\n",
       "                                               fname       src is_dir  \\\n",
       "0                                          /app-logs  20151024   True   \n",
       "1                                /app-logs/ambari-qa  20151024   True   \n",
       "2                           /app-logs/ambari-qa/logs  20151024   True   \n",
       "3  /app-logs/ambari-qa/logs/application_144537273...  20151024   True   \n",
       "4  /app-logs/ambari-qa/logs/application_144537273...  20151024  False   \n",
       "\n",
       "   num_replicas              dt_mod   size_mb path_main fname_id  \n",
       "0           NaN 2015-10-20 13:26:00  0.000000  app-logs      NaN  \n",
       "1           NaN 2015-10-20 13:26:00  0.000000  app-logs      NaN  \n",
       "2           NaN 2015-10-21 00:47:00  0.000000  app-logs      NaN  \n",
       "3           NaN 2015-10-20 13:26:00  0.000000  app-logs      NaN  \n",
       "4             2 2015-10-20 13:26:00  0.000366  app-logs      NaN  "
      ]
     },
     "execution_count": 103,
     "metadata": {},
     "output_type": "execute_result"
    }
   ],
   "source": [
    "# calculates something like the user or group based on the prefix of a path\n",
    "# E.g.: All Projects all located in /projects/ => /projects/proj_a, /projects/proj_b, etc.\n",
    "# Fname_id = proj_a, proj_b,... => size,# files etc. can be calculated based on this id\n",
    "df['fname_id'] = \"\"\n",
    "search = '/user/'\n",
    "selection = df['fname'].map(lambda x: x.startswith(search))\n",
    "df['fname_id'] = df[selection]['fname'].map(lambda x: x[len(search): x.find('/',len(search))+1].replace('/',''))\n",
    "\n",
    "df.head()"
   ]
  },
  {
   "cell_type": "code",
   "execution_count": 104,
   "metadata": {
    "collapsed": false
   },
   "outputs": [
    {
     "data": {
      "text/plain": [
       "fname_id\n",
       "               0.000000\n",
       "ambari-qa      0.526881\n",
       "oozie        602.341820\n",
       "Name: size_mb, dtype: float64"
      ]
     },
     "execution_count": 104,
     "metadata": {},
     "output_type": "execute_result"
    }
   ],
   "source": [
    "# quota per filename id\n",
    "df.groupby(['fname_id'])['size_mb'].sum()"
   ]
  }
 ],
 "metadata": {
  "kernelspec": {
   "display_name": "Python 3",
   "language": "python",
   "name": "python3"
  },
  "language_info": {
   "codemirror_mode": {
    "name": "ipython",
    "version": 3
   },
   "file_extension": ".py",
   "mimetype": "text/x-python",
   "name": "python",
   "nbconvert_exporter": "python",
   "pygments_lexer": "ipython3",
   "version": "3.4.3"
  }
 },
 "nbformat": 4,
 "nbformat_minor": 0
}
